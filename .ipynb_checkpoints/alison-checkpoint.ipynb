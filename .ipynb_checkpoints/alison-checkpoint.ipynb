{
 "cells": [
  {
   "cell_type": "code",
   "execution_count": 1,
   "id": "a79263bf-4aa5-4a74-b493-9f43cfc4b47f",
   "metadata": {},
   "outputs": [
    {
     "data": {
      "text/plain": [
       "4"
      ]
     },
     "execution_count": 1,
     "metadata": {},
     "output_type": "execute_result"
    }
   ],
   "source": [
    "2*2"
   ]
  },
  {
   "cell_type": "code",
   "execution_count": 13,
   "id": "ca60af9f-fddc-4f99-bcd2-e27427435560",
   "metadata": {},
   "outputs": [
    {
     "data": {
      "text/plain": [
       "1.0"
      ]
     },
     "execution_count": 13,
     "metadata": {},
     "output_type": "execute_result"
    }
   ],
   "source": [
    "2/2"
   ]
  },
  {
   "cell_type": "code",
   "execution_count": 3,
   "id": "f2fbf5db-d8e5-4471-aa6e-75b8b31eb8b1",
   "metadata": {},
   "outputs": [
    {
     "data": {
      "text/plain": [
       "1"
      ]
     },
     "execution_count": 3,
     "metadata": {},
     "output_type": "execute_result"
    }
   ],
   "source": []
  },
  {
   "cell_type": "code",
   "execution_count": 30,
   "id": "34d33ba5-0742-4fff-a9a7-7f21a0c280c9",
   "metadata": {},
   "outputs": [
    {
     "data": {
      "text/plain": [
       "['Banana Apple Pearl']"
      ]
     },
     "execution_count": 30,
     "metadata": {},
     "output_type": "execute_result"
    }
   ],
   "source": [
    "fruits = [\"Banana\" \" \" \"Apple\" \" \" \"Pearl\"] # This is a list of the available fruits at our store. (inline comment)\n",
    "fruits"
   ]
  },
  {
   "cell_type": "code",
   "execution_count": 31,
   "id": "b65ad34e-2c93-48db-b450-f7fdc1cf414f",
   "metadata": {},
   "outputs": [
    {
     "name": "stdout",
     "output_type": "stream",
     "text": [
      "Banana Apple Pearl\n",
      "No fruits find left.\n"
     ]
    }
   ],
   "source": [
    "for i in fruits:\n",
    "    # I am looping through fruits available, printing them out, and.....\n",
    "    # when there are no fruits left, it states that there are no fruits left.\n",
    "    #\n",
    "    # More.....\n",
    "    print(i)\n",
    "else:\n",
    "   print(\"No fruits find left.\")"
   ]
  },
  {
   "cell_type": "markdown",
   "id": "fe8fcfab-3c6c-4213-87de-93e7ea8084df",
   "metadata": {},
   "source": [
    "# Main Title\n",
    "## Subtitle\n",
    "### H3\n",
    "#### H4"
   ]
  },
  {
   "cell_type": "markdown",
   "id": "1ab64665-b333-4d9e-bfc0-8dfa8b802ec9",
   "metadata": {},
   "source": [
    "[Google](http://www.google.com)"
   ]
  },
  {
   "cell_type": "code",
   "execution_count": 33,
   "id": "8b45814c-14bb-44af-9103-ef155907b623",
   "metadata": {},
   "outputs": [
    {
     "name": "stdout",
     "output_type": "stream",
     "text": [
      "3\n",
      "2\n",
      "1\n",
      "No item left\n"
     ]
    }
   ],
   "source": [
    "digits = [3,2,1]\n",
    "\n",
    "for i in digits:\n",
    "    print(i)\n",
    "else:\n",
    "    print(\"No item left\")"
   ]
  },
  {
   "cell_type": "code",
   "execution_count": 34,
   "id": "cde2c554-21fb-4043-818d-2eb6bcb17994",
   "metadata": {},
   "outputs": [
    {
     "data": {
      "text/plain": [
       "['Bankole', 'Sodiq', 'Olamilekan']"
      ]
     },
     "execution_count": 34,
     "metadata": {},
     "output_type": "execute_result"
    }
   ],
   "source": [
    "names = [\"Bankole\", \"Sodiq\", \"Olamilekan\"]\n",
    "names"
   ]
  },
  {
   "cell_type": "code",
   "execution_count": 36,
   "id": "4bc4f40d-eac8-4e3a-a27a-98c2bf5acd37",
   "metadata": {},
   "outputs": [
    {
     "name": "stdout",
     "output_type": "stream",
     "text": [
      "Bankole\n"
     ]
    }
   ],
   "source": [
    "print(names[0])"
   ]
  },
  {
   "cell_type": "markdown",
   "id": "c9df7efb-29eb-4757-acab-cdab0f556208",
   "metadata": {},
   "source": [
    "## Creating  Tuple"
   ]
  },
  {
   "cell_type": "code",
   "execution_count": 37,
   "id": "bd5910ce-d565-46ef-b2f1-d2929f944669",
   "metadata": {},
   "outputs": [
    {
     "name": "stdout",
     "output_type": "stream",
     "text": [
      "(1, 2, 3, 4)\n"
     ]
    }
   ],
   "source": [
    "my_tuple = (1, 2, 3, 4)\n",
    "print(my_tuple)"
   ]
  },
  {
   "cell_type": "code",
   "execution_count": 40,
   "id": "a4a991ca-e7ad-40e3-95ad-63f3309db550",
   "metadata": {},
   "outputs": [
    {
     "data": {
      "text/plain": [
       "tuple"
      ]
     },
     "execution_count": 40,
     "metadata": {},
     "output_type": "execute_result"
    }
   ],
   "source": [
    "type(my_tuple)"
   ]
  },
  {
   "cell_type": "markdown",
   "id": "b28d8153-76b6-4d2b-8b64-b85a444d2214",
   "metadata": {},
   "source": [
    "# Slicing"
   ]
  },
  {
   "cell_type": "code",
   "execution_count": 41,
   "id": "174331ee-7837-478c-a30b-a471ebb970a7",
   "metadata": {},
   "outputs": [
    {
     "name": "stdout",
     "output_type": "stream",
     "text": [
      "(1, 2, 3, 4)\n"
     ]
    }
   ],
   "source": [
    "print(my_tuple[:])"
   ]
  },
  {
   "cell_type": "code",
   "execution_count": 43,
   "id": "8ca2c760-d899-4177-8771-a92fd0cfe36c",
   "metadata": {},
   "outputs": [
    {
     "name": "stdout",
     "output_type": "stream",
     "text": [
      "(3, 4)\n"
     ]
    }
   ],
   "source": [
    "print(my_tuple[2:])"
   ]
  },
  {
   "cell_type": "markdown",
   "id": "6107666f-6e95-43b6-8612-b68d28fff905",
   "metadata": {},
   "source": [
    "# Dict"
   ]
  },
  {
   "cell_type": "code",
   "execution_count": 56,
   "id": "108eb6eb-89cb-430c-a0db-10b2332b003e",
   "metadata": {},
   "outputs": [
    {
     "name": "stdout",
     "output_type": "stream",
     "text": [
      "{'Brand': 'Benz', 'Model': 'Gle', 'Year': '2022'}\n"
     ]
    }
   ],
   "source": [
    "my_car = {\"Brand\" : \"Benz\",\n",
    "          \"Model\" : \"Gle\",\n",
    "          \"Year\" : \"2022\"\n",
    "        }\n",
    "print(my_car)"
   ]
  },
  {
   "cell_type": "code",
   "execution_count": 59,
   "id": "2f6d8d2d-4722-4167-b4b1-b8ec8daaa7da",
   "metadata": {},
   "outputs": [
    {
     "name": "stdout",
     "output_type": "stream",
     "text": [
      "{'Brand': 'Toyota', 'Model': 'Camry', 'Year': '2022'}\n"
     ]
    }
   ],
   "source": [
    "my_car[\"Brand\"]= \"Toyota\"\n",
    "my_car[\"Model\"]= \"Camry\"\n",
    "print(my_car)"
   ]
  },
  {
   "cell_type": "code",
   "execution_count": 2,
   "id": "68f9aaa8-2819-44cf-9d77-5925618d6af4",
   "metadata": {},
   "outputs": [
    {
     "name": "stdout",
     "output_type": "stream",
     "text": [
      "{1, 2, 3, 4}\n",
      "{1, 2, 3, 4, 5, 6, 7, 9}\n"
     ]
    }
   ],
   "source": [
    "my_set={1,2,3,4}\n",
    "type(my_set)\n",
    "print(my_set)\n",
    "my_set.add(5)\n",
    "my_set.update([6, 7, 9])\n",
    "print(my_set)"
   ]
  },
  {
   "cell_type": "markdown",
   "id": "4f390fd4-aba2-450d-a7ac-6c26f8d6705a",
   "metadata": {},
   "source": [
    "import pandas as pd\n",
    "d = {'col1':[10,15,20,25],'col2':[5, 4, 10, 40,],'col3':[80, 85, 95, 60]}\n",
    "df=pd.DataFrame(data=d)\n",
    "print(df)\n",
    "count_column = df.shape[1]\n",
    "print(count_column)"
   ]
  },
  {
   "cell_type": "markdown",
   "id": "3989c5e8-8541-4188-83a5-9d5fe0abd2c7",
   "metadata": {},
   "source": [
    "# If statement"
   ]
  },
  {
   "cell_type": "code",
   "execution_count": 4,
   "id": "96998212-7f28-405d-9ae5-3aa301e70ddb",
   "metadata": {},
   "outputs": [
    {
     "name": "stdout",
     "output_type": "stream",
     "text": [
      "Our restaurant is fast selling!\n"
     ]
    }
   ],
   "source": [
    "cashflow = 50000\n",
    "if cashflow > 45000:\n",
    "    print(\"Our restaurant is fast selling!\")\n",
    "    "
   ]
  },
  {
   "cell_type": "code",
   "execution_count": 7,
   "id": "ec4aa280-1be2-4ec0-82f7-aade656512cb",
   "metadata": {},
   "outputs": [],
   "source": [
    "cashflow = 50000\n",
    "if cashflow < 45000:\n",
    "    print(\"There was loss last month!\")"
   ]
  },
  {
   "cell_type": "markdown",
   "id": "1fed85f3-e79c-44b2-9589-6066f2048ac3",
   "metadata": {},
   "source": [
    "# Else Statement"
   ]
  },
  {
   "cell_type": "code",
   "execution_count": 9,
   "id": "a4f18250-dd01-46d2-a1fe-7ececc08cf94",
   "metadata": {},
   "outputs": [
    {
     "name": "stdout",
     "output_type": "stream",
     "text": [
      "Our cash flow could be better\n"
     ]
    }
   ],
   "source": [
    "cashflow = 50000\n",
    "if cashflow <= 45000:\n",
    "    print(\"Our restaurant is fast selling!\")\n",
    "else:\n",
    "    print(\"Our cash flow could be better\")"
   ]
  },
  {
   "cell_type": "markdown",
   "id": "e61acfa2-25d8-4f64-ba53-4b75e123c4a7",
   "metadata": {},
   "source": [
    "# Elif Statement"
   ]
  },
  {
   "cell_type": "code",
   "execution_count": 13,
   "id": "5fd60124-daf1-4f0d-93cb-b92de3ea9174",
   "metadata": {},
   "outputs": [
    {
     "name": "stdout",
     "output_type": "stream",
     "text": [
      "Business going well\n"
     ]
    }
   ],
   "source": [
    "cashflow = 40000\n",
    "if cashflow >= 50000:\n",
    "    print(\"Our restaurant is fast selling!\")\n",
    "elif  cashflow <=50000:\n",
    "    print(\"Business going well\")\n",
    "else:\n",
    "    print(\"Our cash flow could be better\")\n",
    "    "
   ]
  },
  {
   "cell_type": "markdown",
   "id": "5272b24b-5375-4118-bc2f-62f3b75d260e",
   "metadata": {},
   "source": [
    "# For loops"
   ]
  },
  {
   "cell_type": "code",
   "execution_count": 21,
   "id": "56b029bc-d0b4-4309-bb60-852912762792",
   "metadata": {},
   "outputs": [
    {
     "name": "stdout",
     "output_type": "stream",
     "text": [
      "rice\n",
      "Spaghetti\n",
      "Amala\n"
     ]
    }
   ],
   "source": [
    "menu = [\"rice\", \"Spaghetti\", \"Amala\"]\n",
    "for i in menu:\n",
    "    print(i)"
   ]
  },
  {
   "cell_type": "code",
   "execution_count": null,
   "id": "3d79fff1-cd9f-4324-9f6e-340b52da3128",
   "metadata": {
    "scrolled": true
   },
   "outputs": [],
   "source": [
    "food = [\"rice\", \"Spaghetti\", \"Amala\"]\n",
    "count = 0\n",
    "for i in food:\n",
    "    count = count + 1\n",
    "    print(\"Hello we have\" + \" \" + food[count])"
   ]
  },
  {
   "cell_type": "markdown",
   "id": "069c74b8-d4bf-4b70-abff-e756c3e1a058",
   "metadata": {},
   "source": [
    "# While loop"
   ]
  },
  {
   "cell_type": "code",
   "execution_count": null,
   "id": "4d93aff3-e2f0-4d4f-9c79-0a4aafff786b",
   "metadata": {},
   "outputs": [],
   "source": [
    "count = 0\n",
    "while (count < 3):\n",
    "    count = count + 1\n",
    "    print(\"No food\")\n",
    "    "
   ]
  },
  {
   "cell_type": "markdown",
   "id": "2a24a89d-c78c-4805-a82f-20c35e833dcc",
   "metadata": {},
   "source": [
    "# Break and Continue"
   ]
  },
  {
   "cell_type": "code",
   "execution_count": null,
   "id": "aa2fc718-461f-40b0-a0a8-b0f4576e565d",
   "metadata": {},
   "outputs": [],
   "source": [
    "# break the loop, stop right there\n",
    "for i in range(100):\n",
    "    print(i)\n",
    "    if i == 7:\n",
    "     break"
   ]
  },
  {
   "cell_type": "code",
   "execution_count": null,
   "id": "cac9f16f-c18e-4fdc-bb0e-10c14c69c41c",
   "metadata": {},
   "outputs": [],
   "source": [
    "# skip this element and continue\n",
    "foods =[\"beans\", \"rice\" \"yam\"]\n",
    "for i in foods:\n",
    "    if i == \"beans\":\n",
    "       continue\n",
    "    print(i)"
   ]
  },
  {
   "cell_type": "markdown",
   "id": "cbfcb22b-dcd0-4fa1-8e4f-06282779fd20",
   "metadata": {},
   "source": [
    "# Input"
   ]
  },
  {
   "cell_type": "code",
   "execution_count": null,
   "id": "c816f5fc-1334-45b7-ab17-fe32a837137e",
   "metadata": {},
   "outputs": [],
   "source": [
    "text = input (\"What do you need: \")\n",
    "print(text)\n",
    "num1 = input(\"Type any number: \")\n",
    "print(5*num1)\n",
    "num2 = int(input(\"Type a number: \"))\n",
    "print(3*num2)"
   ]
  },
  {
   "cell_type": "code",
   "execution_count": null,
   "id": "84330d3d-0b57-4657-81b4-66a715b276ff",
   "metadata": {},
   "outputs": [],
   "source": [
    "question = input(\"choose a verb: \")\n",
    "print(\"I\",question, \"to eat!\")\n",
    "print((question+\" \")*5\")"
   ]
  },
  {
   "cell_type": "code",
   "execution_count": null,
   "id": "9d00fe15-491f-48a3-8736-b2f19c8522c6",
   "metadata": {},
   "outputs": [],
   "source": [
    "import pandas as pd\n",
    "d = {'Sharwama':[1,2,3,4,5],'Chicken':[2,6,8,9,7], 'Burger':[9,10,13,14,20], 'Meat pie':[20,30,14,12,6]}\n",
    "df = pd.DataFrame(data=d)\n",
    "print(df)\n"
   ]
  },
  {
   "cell_type": "code",
   "execution_count": null,
   "id": "bad5c41b-6889-427c-8d3a-a3de59fef00d",
   "metadata": {},
   "outputs": [],
   "source": [
    "import pandas as pd\n",
    "d = {'Sharwama':[1,2,3,4,5],'Chicken':[2,6,8,9,7], \n",
    "     'Burger':[9,10,13,14,20], \n",
    "     'Meat pie':[20,30,14,12,6]}\n",
    "df =pd.DataFrame(data=d)\n",
    "total = df.sum()\n",
    "all_total = df.sum().sum()\n",
    "print(df)\n",
    "print(total)\n",
    "print(all_total)\n",
    "\n",
    "\n"
   ]
  },
  {
   "cell_type": "markdown",
   "id": "19984013-e318-4182-b565-3d553b6eed9f",
   "metadata": {},
   "source": [
    "## The Mean Function \n",
    "Then numpy mean() function is used to find the average of an array."
   ]
  },
  {
   "cell_type": "code",
   "execution_count": null,
   "id": "79b2ef92-905a-4b29-b825-371ae4c7d70b",
   "metadata": {},
   "outputs": [],
   "source": [
    "## The mean of Sharwama in store\n",
    "import numpy as np\n",
    "sharwama = [10, 20, 30, 40, 50, 60, 70]\n",
    "Average_sharwama = np.mean(sharwama)\n",
    "print (int(Average_sharwama))"
   ]
  },
  {
   "cell_type": "markdown",
   "id": "c7ba94d1-2cc4-4b80-a138-1eba8be80467",
   "metadata": {},
   "source": [
    "## Extract and Read Data With Pandas\n",
    "Before data can be analysed, it must be imported or extracted"
   ]
  },
  {
   "cell_type": "code",
   "execution_count": null,
   "id": "eef3c8eb-2eb3-4566-be1f-7d8c2e5c6e32",
   "metadata": {
    "scrolled": true
   },
   "outputs": [],
   "source": [
    "import pandas as pd\n",
    "\n",
    "health_care = pd.read_csv(\"data.csv\", header=0, sep=\",\")\n",
    "\n",
    "print(health_care)"
   ]
  },
  {
   "cell_type": "code",
   "execution_count": null,
   "id": "27a7ea76-824d-4cdf-a7cc-dfa5b929787e",
   "metadata": {},
   "outputs": [],
   "source": [
    "import pandas as pd\n",
    "# Import healthcare data from a CSV file \n",
    "data = pd.read_csv('healthcare_data.csv')\n",
    "print(data.head())"
   ]
  },
  {
   "cell_type": "code",
   "execution_count": null,
   "id": "58a9c107-dbee-42a6-b522-ad57d291e001",
   "metadata": {},
   "outputs": [],
   "source": [
    "import pandas as pd\n",
    "\n",
    "# Example healthcare data\n",
    "data = {\n",
    "    'PatientID': [1, 2, 3],\n",
    "    'Name': ['John Doe', 'Jane Smith', 'Alice Johnson'],\n",
    "    'Age': [45, 32, 67],\n",
    "    'Condition': ['Diabetes', 'Hypertension', 'Asthma']\n",
    "}\n",
    "\n",
    "# Create a DataFrame\n",
    "df = pd.DataFrame(data)\n",
    "\n",
    "# Export to CSV\n",
    "df.to_csv('health_care_data.csv', index=False)\n",
    "\n",
    "print(\"Data exported successfully to 'health_care_data.csv'\")\n",
    "exported_data = pd.read_csv('health_care_data.csv')\n",
    "pd.set_option('display.max_columns',None)\n",
    "print(exported_data)\n",
    "print(exported_data.info())\n",
    "print(int(exported_data.describe()))"
   ]
  },
  {
   "cell_type": "code",
   "execution_count": null,
   "id": "8208aea0-c9a9-45a6-afdf-2202ccfc9d4e",
   "metadata": {},
   "outputs": [],
   "source": [
    "import os\n",
    "print(\"Current Working Directory:\", os.getcwd())"
   ]
  },
  {
   "cell_type": "code",
   "execution_count": null,
   "id": "023524a1-2939-45e6-9a1c-216df029b799",
   "metadata": {},
   "outputs": [],
   "source": []
  },
  {
   "cell_type": "code",
   "execution_count": null,
   "id": "97b05856-9a39-46f9-b993-2737546522a6",
   "metadata": {},
   "outputs": [],
   "source": []
  },
  {
   "cell_type": "code",
   "execution_count": null,
   "id": "dee31dd5-0062-4e82-b66c-14ef10717a7e",
   "metadata": {},
   "outputs": [],
   "source": []
  }
 ],
 "metadata": {
  "kernelspec": {
   "display_name": "Python 3 (ipykernel)",
   "language": "python",
   "name": "python3"
  },
  "language_info": {
   "codemirror_mode": {
    "name": "ipython",
    "version": 3
   },
   "file_extension": ".py",
   "mimetype": "text/x-python",
   "name": "python",
   "nbconvert_exporter": "python",
   "pygments_lexer": "ipython3",
   "version": "3.9.20"
  }
 },
 "nbformat": 4,
 "nbformat_minor": 5
}
