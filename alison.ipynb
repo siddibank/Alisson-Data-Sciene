{
 "cells": [
  {
   "cell_type": "code",
   "execution_count": 1,
   "id": "a79263bf-4aa5-4a74-b493-9f43cfc4b47f",
   "metadata": {},
   "outputs": [
    {
     "data": {
      "text/plain": [
       "4"
      ]
     },
     "execution_count": 1,
     "metadata": {},
     "output_type": "execute_result"
    }
   ],
   "source": [
    "2*2"
   ]
  },
  {
   "cell_type": "code",
   "execution_count": 13,
   "id": "ca60af9f-fddc-4f99-bcd2-e27427435560",
   "metadata": {},
   "outputs": [
    {
     "data": {
      "text/plain": [
       "1.0"
      ]
     },
     "execution_count": 13,
     "metadata": {},
     "output_type": "execute_result"
    }
   ],
   "source": [
    "2/2"
   ]
  },
  {
   "cell_type": "code",
   "execution_count": 3,
   "id": "f2fbf5db-d8e5-4471-aa6e-75b8b31eb8b1",
   "metadata": {},
   "outputs": [
    {
     "data": {
      "text/plain": [
       "1"
      ]
     },
     "execution_count": 3,
     "metadata": {},
     "output_type": "execute_result"
    }
   ],
   "source": []
  },
  {
   "cell_type": "code",
   "execution_count": 30,
   "id": "34d33ba5-0742-4fff-a9a7-7f21a0c280c9",
   "metadata": {},
   "outputs": [
    {
     "data": {
      "text/plain": [
       "['Banana Apple Pearl']"
      ]
     },
     "execution_count": 30,
     "metadata": {},
     "output_type": "execute_result"
    }
   ],
   "source": [
    "fruits = [\"Banana\" \" \" \"Apple\" \" \" \"Pearl\"] # This is a list of the available fruits at our store. (inline comment)\n",
    "fruits"
   ]
  },
  {
   "cell_type": "code",
   "execution_count": 31,
   "id": "b65ad34e-2c93-48db-b450-f7fdc1cf414f",
   "metadata": {},
   "outputs": [
    {
     "name": "stdout",
     "output_type": "stream",
     "text": [
      "Banana Apple Pearl\n",
      "No fruits find left.\n"
     ]
    }
   ],
   "source": [
    "for i in fruits:\n",
    "    # I am looping through fruits available, printing them out, and.....\n",
    "    # when there are no fruits left, it states that there are no fruits left.\n",
    "    #\n",
    "    # More.....\n",
    "    print(i)\n",
    "else:\n",
    "   print(\"No fruits find left.\")"
   ]
  },
  {
   "cell_type": "markdown",
   "id": "fe8fcfab-3c6c-4213-87de-93e7ea8084df",
   "metadata": {},
   "source": [
    "# Main Title\n",
    "## Subtitle\n",
    "### H3\n",
    "#### H4"
   ]
  },
  {
   "cell_type": "markdown",
   "id": "1ab64665-b333-4d9e-bfc0-8dfa8b802ec9",
   "metadata": {},
   "source": [
    "[Google](http://www.google.com)"
   ]
  },
  {
   "cell_type": "code",
   "execution_count": 33,
   "id": "8b45814c-14bb-44af-9103-ef155907b623",
   "metadata": {},
   "outputs": [
    {
     "name": "stdout",
     "output_type": "stream",
     "text": [
      "3\n",
      "2\n",
      "1\n",
      "No item left\n"
     ]
    }
   ],
   "source": [
    "digits = [3,2,1]\n",
    "\n",
    "for i in digits:\n",
    "    print(i)\n",
    "else:\n",
    "    print(\"No item left\")"
   ]
  },
  {
   "cell_type": "code",
   "execution_count": 34,
   "id": "cde2c554-21fb-4043-818d-2eb6bcb17994",
   "metadata": {},
   "outputs": [
    {
     "data": {
      "text/plain": [
       "['Bankole', 'Sodiq', 'Olamilekan']"
      ]
     },
     "execution_count": 34,
     "metadata": {},
     "output_type": "execute_result"
    }
   ],
   "source": [
    "names = [\"Bankole\", \"Sodiq\", \"Olamilekan\"]\n",
    "names"
   ]
  },
  {
   "cell_type": "code",
   "execution_count": 36,
   "id": "4bc4f40d-eac8-4e3a-a27a-98c2bf5acd37",
   "metadata": {},
   "outputs": [
    {
     "name": "stdout",
     "output_type": "stream",
     "text": [
      "Bankole\n"
     ]
    }
   ],
   "source": [
    "print(names[0])"
   ]
  },
  {
   "cell_type": "markdown",
   "id": "c9df7efb-29eb-4757-acab-cdab0f556208",
   "metadata": {},
   "source": [
    "## Creating  Tuple"
   ]
  },
  {
   "cell_type": "code",
   "execution_count": 37,
   "id": "bd5910ce-d565-46ef-b2f1-d2929f944669",
   "metadata": {},
   "outputs": [
    {
     "name": "stdout",
     "output_type": "stream",
     "text": [
      "(1, 2, 3, 4)\n"
     ]
    }
   ],
   "source": [
    "my_tuple = (1, 2, 3, 4)\n",
    "print(my_tuple)"
   ]
  },
  {
   "cell_type": "code",
   "execution_count": 40,
   "id": "a4a991ca-e7ad-40e3-95ad-63f3309db550",
   "metadata": {},
   "outputs": [
    {
     "data": {
      "text/plain": [
       "tuple"
      ]
     },
     "execution_count": 40,
     "metadata": {},
     "output_type": "execute_result"
    }
   ],
   "source": [
    "type(my_tuple)"
   ]
  },
  {
   "cell_type": "markdown",
   "id": "b28d8153-76b6-4d2b-8b64-b85a444d2214",
   "metadata": {},
   "source": [
    "# Slicing"
   ]
  },
  {
   "cell_type": "code",
   "execution_count": 41,
   "id": "174331ee-7837-478c-a30b-a471ebb970a7",
   "metadata": {},
   "outputs": [
    {
     "name": "stdout",
     "output_type": "stream",
     "text": [
      "(1, 2, 3, 4)\n"
     ]
    }
   ],
   "source": [
    "print(my_tuple[:])"
   ]
  },
  {
   "cell_type": "code",
   "execution_count": 43,
   "id": "8ca2c760-d899-4177-8771-a92fd0cfe36c",
   "metadata": {},
   "outputs": [
    {
     "name": "stdout",
     "output_type": "stream",
     "text": [
      "(3, 4)\n"
     ]
    }
   ],
   "source": [
    "print(my_tuple[2:])"
   ]
  },
  {
   "cell_type": "markdown",
   "id": "6107666f-6e95-43b6-8612-b68d28fff905",
   "metadata": {},
   "source": [
    "# Dict"
   ]
  },
  {
   "cell_type": "code",
   "execution_count": 56,
   "id": "108eb6eb-89cb-430c-a0db-10b2332b003e",
   "metadata": {},
   "outputs": [
    {
     "name": "stdout",
     "output_type": "stream",
     "text": [
      "{'Brand': 'Benz', 'Model': 'Gle', 'Year': '2022'}\n"
     ]
    }
   ],
   "source": [
    "my_car = {\"Brand\" : \"Benz\",\n",
    "          \"Model\" : \"Gle\",\n",
    "          \"Year\" : \"2022\"\n",
    "        }\n",
    "print(my_car)"
   ]
  },
  {
   "cell_type": "code",
   "execution_count": 59,
   "id": "2f6d8d2d-4722-4167-b4b1-b8ec8daaa7da",
   "metadata": {},
   "outputs": [
    {
     "name": "stdout",
     "output_type": "stream",
     "text": [
      "{'Brand': 'Toyota', 'Model': 'Camry', 'Year': '2022'}\n"
     ]
    }
   ],
   "source": [
    "my_car[\"Brand\"]= \"Toyota\"\n",
    "my_car[\"Model\"]= \"Camry\"\n",
    "print(my_car)"
   ]
  },
  {
   "cell_type": "code",
   "execution_count": 61,
   "id": "68f9aaa8-2819-44cf-9d77-5925618d6af4",
   "metadata": {},
   "outputs": [
    {
     "data": {
      "text/plain": [
       "set"
      ]
     },
     "execution_count": 61,
     "metadata": {},
     "output_type": "execute_result"
    }
   ],
   "source": [
    "my_set={1,2,3,4}\n",
    "type(my_set)"
   ]
  },
  {
   "cell_type": "code",
   "execution_count": 70,
   "id": "54314eac-bfa8-4e78-9377-c799a1dff207",
   "metadata": {},
   "outputs": [
    {
     "name": "stdout",
     "output_type": "stream",
     "text": [
      "   col1  col2  col3\n",
      "0    10     5    80\n",
      "1    15     4    85\n",
      "2    20    10    95\n",
      "3    25    40    60\n",
      "3\n"
     ]
    }
   ],
   "source": [
    "import pandas as pd\n",
    "d = {'col1':[10,15,20,25],'col2':[5, 4, 10, 40,],'col3':[80, 85, 95, 60]}\n",
    "df=pd.DataFrame(data=d)\n",
    "print(df)\n",
    "count_column = df.shape[1]\n",
    "print(count_column)"
   ]
  },
  {
   "cell_type": "code",
   "execution_count": null,
   "id": "69ab9e5b-c499-4fad-b311-f6ab17450fd9",
   "metadata": {},
   "outputs": [],
   "source": []
  },
  {
   "cell_type": "code",
   "execution_count": null,
   "id": "ec4aa280-1be2-4ec0-82f7-aade656512cb",
   "metadata": {},
   "outputs": [],
   "source": []
  }
 ],
 "metadata": {
  "kernelspec": {
   "display_name": "Python 3 (ipykernel)",
   "language": "python",
   "name": "python3"
  },
  "language_info": {
   "codemirror_mode": {
    "name": "ipython",
    "version": 3
   },
   "file_extension": ".py",
   "mimetype": "text/x-python",
   "name": "python",
   "nbconvert_exporter": "python",
   "pygments_lexer": "ipython3",
   "version": "3.9.20"
  }
 },
 "nbformat": 4,
 "nbformat_minor": 5
}
