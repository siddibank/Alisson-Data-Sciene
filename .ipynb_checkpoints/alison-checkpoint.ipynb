{
 "cells": [
  {
   "cell_type": "code",
   "execution_count": 1,
   "id": "a79263bf-4aa5-4a74-b493-9f43cfc4b47f",
   "metadata": {},
   "outputs": [
    {
     "data": {
      "text/plain": [
       "4"
      ]
     },
     "execution_count": 1,
     "metadata": {},
     "output_type": "execute_result"
    }
   ],
   "source": [
    "2*2"
   ]
  },
  {
   "cell_type": "code",
   "execution_count": 2,
   "id": "ca60af9f-fddc-4f99-bcd2-e27427435560",
   "metadata": {},
   "outputs": [
    {
     "data": {
      "text/plain": [
       "1.0"
      ]
     },
     "execution_count": 2,
     "metadata": {},
     "output_type": "execute_result"
    }
   ],
   "source": [
    "2/2"
   ]
  },
  {
   "cell_type": "code",
   "execution_count": null,
   "id": "f2fbf5db-d8e5-4471-aa6e-75b8b31eb8b1",
   "metadata": {},
   "outputs": [],
   "source": []
  },
  {
   "cell_type": "code",
   "execution_count": 18,
   "id": "34d33ba5-0742-4fff-a9a7-7f21a0c280c9",
   "metadata": {},
   "outputs": [
    {
     "name": "stdout",
     "output_type": "stream",
     "text": [
      "['Banana Apple Pearl']\n"
     ]
    }
   ],
   "source": [
    "fruits = [\"Banana\" \" \" \"Apple\" \" \" \"Pearl\"] # This is a list of the available fruits at our store. (inline comment)\n",
    "print(fruits)"
   ]
  },
  {
   "cell_type": "code",
   "execution_count": 19,
   "id": "b65ad34e-2c93-48db-b450-f7fdc1cf414f",
   "metadata": {},
   "outputs": [
    {
     "name": "stdout",
     "output_type": "stream",
     "text": [
      "Banana Apple Pearl\n",
      "No fruits find left.\n"
     ]
    }
   ],
   "source": [
    "for i in fruits:\n",
    "    # I am looping through fruits available, printing them out, and.....\n",
    "    # when there are no fruits left, it states that there are no fruits left.\n",
    "    #\n",
    "    # More.....\n",
    "    print(i)\n",
    "else:\n",
    "   print(\"No fruits find left.\")"
   ]
  },
  {
   "cell_type": "markdown",
   "id": "fe8fcfab-3c6c-4213-87de-93e7ea8084df",
   "metadata": {},
   "source": [
    "# Main Title\n",
    "## Subtitle\n",
    "### H3\n",
    "#### H4"
   ]
  },
  {
   "cell_type": "markdown",
   "id": "1ab64665-b333-4d9e-bfc0-8dfa8b802ec9",
   "metadata": {},
   "source": [
    "[Google](http://www.google.com)"
   ]
  },
  {
   "cell_type": "code",
   "execution_count": 5,
   "id": "8b45814c-14bb-44af-9103-ef155907b623",
   "metadata": {},
   "outputs": [
    {
     "name": "stdout",
     "output_type": "stream",
     "text": [
      "3\n",
      "2\n",
      "1\n",
      "No item left\n"
     ]
    }
   ],
   "source": [
    "digits = [3,2,1]\n",
    "\n",
    "for i in digits:\n",
    "    print(i)\n",
    "else:\n",
    "    print(\"No item left\")"
   ]
  },
  {
   "cell_type": "code",
   "execution_count": 22,
   "id": "cde2c554-21fb-4043-818d-2eb6bcb17994",
   "metadata": {},
   "outputs": [
    {
     "data": {
      "text/plain": [
       "['Bankole Sodiq Olamilekan']"
      ]
     },
     "execution_count": 22,
     "metadata": {},
     "output_type": "execute_result"
    }
   ],
   "source": [
    "names = [\"Bankole\" \" \" \"Sodiq\" \" \" \"Olamilekan\"]\n",
    "names"
   ]
  },
  {
   "cell_type": "code",
   "execution_count": 7,
   "id": "4bc4f40d-eac8-4e3a-a27a-98c2bf5acd37",
   "metadata": {},
   "outputs": [
    {
     "name": "stdout",
     "output_type": "stream",
     "text": [
      "Bankole\n"
     ]
    }
   ],
   "source": [
    "print(names[0])"
   ]
  },
  {
   "cell_type": "markdown",
   "id": "c9df7efb-29eb-4757-acab-cdab0f556208",
   "metadata": {},
   "source": [
    "## Creating  Tuple"
   ]
  },
  {
   "cell_type": "code",
   "execution_count": 8,
   "id": "bd5910ce-d565-46ef-b2f1-d2929f944669",
   "metadata": {},
   "outputs": [
    {
     "name": "stdout",
     "output_type": "stream",
     "text": [
      "(1, 2, 3, 4)\n"
     ]
    }
   ],
   "source": [
    "my_tuple = (1, 2, 3, 4)\n",
    "print(my_tuple)"
   ]
  },
  {
   "cell_type": "code",
   "execution_count": 9,
   "id": "a4a991ca-e7ad-40e3-95ad-63f3309db550",
   "metadata": {},
   "outputs": [
    {
     "data": {
      "text/plain": [
       "tuple"
      ]
     },
     "execution_count": 9,
     "metadata": {},
     "output_type": "execute_result"
    }
   ],
   "source": [
    "type(my_tuple)"
   ]
  },
  {
   "cell_type": "markdown",
   "id": "b28d8153-76b6-4d2b-8b64-b85a444d2214",
   "metadata": {},
   "source": [
    "# Slicing"
   ]
  },
  {
   "cell_type": "code",
   "execution_count": 10,
   "id": "174331ee-7837-478c-a30b-a471ebb970a7",
   "metadata": {},
   "outputs": [
    {
     "name": "stdout",
     "output_type": "stream",
     "text": [
      "(1, 2, 3, 4)\n"
     ]
    }
   ],
   "source": [
    "print(my_tuple[:])"
   ]
  },
  {
   "cell_type": "code",
   "execution_count": 11,
   "id": "8ca2c760-d899-4177-8771-a92fd0cfe36c",
   "metadata": {},
   "outputs": [
    {
     "name": "stdout",
     "output_type": "stream",
     "text": [
      "(3, 4)\n"
     ]
    }
   ],
   "source": [
    "print(my_tuple[2:])"
   ]
  },
  {
   "cell_type": "markdown",
   "id": "6107666f-6e95-43b6-8612-b68d28fff905",
   "metadata": {},
   "source": [
    "# Dict"
   ]
  },
  {
   "cell_type": "code",
   "execution_count": 12,
   "id": "108eb6eb-89cb-430c-a0db-10b2332b003e",
   "metadata": {},
   "outputs": [
    {
     "name": "stdout",
     "output_type": "stream",
     "text": [
      "{'Brand': 'Benz', 'Model': 'Gle', 'Year': '2022'}\n"
     ]
    }
   ],
   "source": [
    "my_car = {\"Brand\" : \"Benz\",\n",
    "          \"Model\" : \"Gle\",\n",
    "          \"Year\" : \"2022\"\n",
    "        }\n",
    "print(my_car)"
   ]
  },
  {
   "cell_type": "code",
   "execution_count": 13,
   "id": "2f6d8d2d-4722-4167-b4b1-b8ec8daaa7da",
   "metadata": {},
   "outputs": [
    {
     "name": "stdout",
     "output_type": "stream",
     "text": [
      "{'Brand': 'Toyota', 'Model': 'Camry', 'Year': '2022'}\n"
     ]
    }
   ],
   "source": [
    "my_car[\"Brand\"]= \"Toyota\"\n",
    "my_car[\"Model\"]= \"Camry\"\n",
    "print(my_car)"
   ]
  },
  {
   "cell_type": "code",
   "execution_count": 21,
   "id": "68f9aaa8-2819-44cf-9d77-5925618d6af4",
   "metadata": {},
   "outputs": [
    {
     "name": "stdout",
     "output_type": "stream",
     "text": [
      "{1, 2, 3, 4}\n",
      "{1, 2, 3, 4, 5, 6, 7, 9}\n"
     ]
    }
   ],
   "source": [
    "my_set={1,2,3,4}\n",
    "type(my_set)\n",
    "print(my_set)\n",
    "my_set.add(5)\n",
    "my_set.update([6, 7, 9])\n",
    "print(my_set)"
   ]
  },
  {
   "cell_type": "markdown",
   "id": "4f390fd4-aba2-450d-a7ac-6c26f8d6705a",
   "metadata": {},
   "source": [
    "import pandas as pd\n",
    "d = {'col1':[10,15,20,25],'col2':[5, 4, 10, 40,],'col3':[80, 85, 95, 60]}\n",
    "df=pd.DataFrame(data=d)\n",
    "print(df)\n",
    "count_column = df.shape[1]\n",
    "print(count_column)"
   ]
  },
  {
   "cell_type": "markdown",
   "id": "3989c5e8-8541-4188-83a5-9d5fe0abd2c7",
   "metadata": {},
   "source": [
    "# If statement"
   ]
  },
  {
   "cell_type": "code",
   "execution_count": 15,
   "id": "96998212-7f28-405d-9ae5-3aa301e70ddb",
   "metadata": {},
   "outputs": [
    {
     "name": "stdout",
     "output_type": "stream",
     "text": [
      "Our restaurant is fast selling!\n"
     ]
    }
   ],
   "source": [
    "cashflow = 50000\n",
    "if cashflow > 45000:\n",
    "    print(\"Our restaurant is fast selling!\")\n",
    "    "
   ]
  },
  {
   "cell_type": "code",
   "execution_count": 16,
   "id": "ec4aa280-1be2-4ec0-82f7-aade656512cb",
   "metadata": {},
   "outputs": [],
   "source": [
    "cashflow = 50000\n",
    "if cashflow < 45000:\n",
    "    print(\"There was loss last month!\")"
   ]
  },
  {
   "cell_type": "markdown",
   "id": "1fed85f3-e79c-44b2-9589-6066f2048ac3",
   "metadata": {},
   "source": [
    "# Else Statement"
   ]
  },
  {
   "cell_type": "code",
   "execution_count": 23,
   "id": "a4f18250-dd01-46d2-a1fe-7ececc08cf94",
   "metadata": {},
   "outputs": [
    {
     "name": "stdout",
     "output_type": "stream",
     "text": [
      "Our restaurant is fast selling!\n"
     ]
    }
   ],
   "source": [
    "cashflow = 50000\n",
    "if cashflow <= 45000:\n",
    "    print(\"Our restaurant is fast selling!\")\n",
    "else:\n",
    "    print(\"Our cash flow could be better\")"
   ]
  },
  {
   "cell_type": "markdown",
   "id": "e61acfa2-25d8-4f64-ba53-4b75e123c4a7",
   "metadata": {},
   "source": [
    "# Elif Statement"
   ]
  },
  {
   "cell_type": "code",
   "execution_count": 18,
   "id": "5fd60124-daf1-4f0d-93cb-b92de3ea9174",
   "metadata": {},
   "outputs": [
    {
     "name": "stdout",
     "output_type": "stream",
     "text": [
      "Business going well\n"
     ]
    }
   ],
   "source": [
    "cashflow = 40000\n",
    "if cashflow >= 50000:\n",
    "    print(\"Our restaurant is fast selling!\")\n",
    "elif  cashflow <=50000:\n",
    "    print(\"Business going well\")\n",
    "else:\n",
    "    print(\"Our cash flow could be better\")\n",
    "    "
   ]
  },
  {
   "cell_type": "markdown",
   "id": "5272b24b-5375-4118-bc2f-62f3b75d260e",
   "metadata": {},
   "source": [
    "# For loops"
   ]
  },
  {
   "cell_type": "code",
   "execution_count": 25,
   "id": "56b029bc-d0b4-4309-bb60-852912762792",
   "metadata": {},
   "outputs": [
    {
     "name": "stdout",
     "output_type": "stream",
     "text": [
      "rice\n",
      "Spaghetti\n",
      "Amala\n"
     ]
    }
   ],
   "source": [
    "menu = [\"rice\", \"Spaghetti\", \"Amala\"]\n",
    "for i in menu:\n",
    "    print(i)"
   ]
  },
  {
   "cell_type": "code",
   "execution_count": 38,
   "id": "3d79fff1-cd9f-4324-9f6e-340b52da3128",
   "metadata": {
    "scrolled": true
   },
   "outputs": [
    {
     "name": "stdout",
     "output_type": "stream",
     "text": [
      "Hello we have rice\n",
      "Hello we have Amala\n",
      "Hello we have Spaghetti\n"
     ]
    }
   ],
   "source": [
    "food = [\"rice\", \"Spaghetti\", \"Amala\"]\n",
    "count = 1\n",
    "for i in food:\n",
    "    count = count - 1\n",
    "    print(\"Hello we have\" \" \"+ food[count])"
   ]
  },
  {
   "cell_type": "markdown",
   "id": "069c74b8-d4bf-4b70-abff-e756c3e1a058",
   "metadata": {},
   "source": [
    "# While loop"
   ]
  },
  {
   "cell_type": "code",
   "execution_count": 39,
   "id": "4d93aff3-e2f0-4d4f-9c79-0a4aafff786b",
   "metadata": {},
   "outputs": [
    {
     "name": "stdout",
     "output_type": "stream",
     "text": [
      "No food\n",
      "No food\n",
      "No food\n"
     ]
    }
   ],
   "source": [
    "count = 0\n",
    "while count < 3:\n",
    "    count = count + 1\n",
    "    print(\"No food\")\n",
    "    "
   ]
  },
  {
   "cell_type": "markdown",
   "id": "2a24a89d-c78c-4805-a82f-20c35e833dcc",
   "metadata": {},
   "source": [
    "# Break and Continue"
   ]
  },
  {
   "cell_type": "code",
   "execution_count": 40,
   "id": "aa2fc718-461f-40b0-a0a8-b0f4576e565d",
   "metadata": {},
   "outputs": [
    {
     "name": "stdout",
     "output_type": "stream",
     "text": [
      "0\n",
      "1\n",
      "2\n",
      "3\n",
      "4\n",
      "5\n",
      "6\n",
      "7\n"
     ]
    }
   ],
   "source": [
    "# break the loop, stop right there\n",
    "for i in range(100):\n",
    "    print(i)\n",
    "    if i == 7:\n",
    "     break"
   ]
  },
  {
   "cell_type": "code",
   "execution_count": 23,
   "id": "cac9f16f-c18e-4fdc-bb0e-10c14c69c41c",
   "metadata": {},
   "outputs": [
    {
     "name": "stdout",
     "output_type": "stream",
     "text": [
      "rice\n",
      "yam\n"
     ]
    }
   ],
   "source": [
    "# skip this element and continue\n",
    "foods =[\"beans\", \"rice\", \"yam\"]\n",
    "for i in foods:\n",
    "    if i == \"beans\":\n",
    "       continue\n",
    "    print(i)"
   ]
  },
  {
   "cell_type": "code",
   "execution_count": null,
   "id": "71c3bec5-b165-4dc9-9abc-13d6c4b7880f",
   "metadata": {},
   "outputs": [],
   "source": []
  },
  {
   "cell_type": "markdown",
   "id": "cbfcb22b-dcd0-4fa1-8e4f-06282779fd20",
   "metadata": {},
   "source": [
    "# Input"
   ]
  },
  {
   "cell_type": "code",
   "execution_count": 1,
   "id": "c816f5fc-1334-45b7-ab17-fe32a837137e",
   "metadata": {},
   "outputs": [
    {
     "name": "stdin",
     "output_type": "stream",
     "text": [
      "What do you need:  h\n"
     ]
    },
    {
     "name": "stdout",
     "output_type": "stream",
     "text": [
      "why h\n"
     ]
    },
    {
     "name": "stdin",
     "output_type": "stream",
     "text": [
      "Type any number:  h\n"
     ]
    },
    {
     "name": "stdout",
     "output_type": "stream",
     "text": [
      "hhhhh\n"
     ]
    },
    {
     "name": "stdin",
     "output_type": "stream",
     "text": [
      "Type a number:  bv\n"
     ]
    },
    {
     "ename": "ValueError",
     "evalue": "invalid literal for int() with base 10: 'bv'",
     "output_type": "error",
     "traceback": [
      "\u001b[0;31m---------------------------------------------------------------------------\u001b[0m",
      "\u001b[0;31mValueError\u001b[0m                                Traceback (most recent call last)",
      "Cell \u001b[0;32mIn[1], line 5\u001b[0m\n\u001b[1;32m      3\u001b[0m num1 \u001b[38;5;241m=\u001b[39m \u001b[38;5;28minput\u001b[39m(\u001b[38;5;124m\"\u001b[39m\u001b[38;5;124mType any number: \u001b[39m\u001b[38;5;124m\"\u001b[39m)\n\u001b[1;32m      4\u001b[0m \u001b[38;5;28mprint\u001b[39m(\u001b[38;5;241m5\u001b[39m\u001b[38;5;241m*\u001b[39mnum1)\n\u001b[0;32m----> 5\u001b[0m num2 \u001b[38;5;241m=\u001b[39m \u001b[38;5;28;43mint\u001b[39;49m\u001b[43m(\u001b[49m\u001b[38;5;28;43minput\u001b[39;49m\u001b[43m(\u001b[49m\u001b[38;5;124;43m\"\u001b[39;49m\u001b[38;5;124;43mType a number: \u001b[39;49m\u001b[38;5;124;43m\"\u001b[39;49m\u001b[43m)\u001b[49m\u001b[43m)\u001b[49m\n\u001b[1;32m      6\u001b[0m \u001b[38;5;28mprint\u001b[39m(\u001b[38;5;241m3\u001b[39m\u001b[38;5;241m*\u001b[39mnum2)\n",
      "\u001b[0;31mValueError\u001b[0m: invalid literal for int() with base 10: 'bv'"
     ]
    }
   ],
   "source": [
    "text = input (\"What do you need: \")\n",
    "print(\"why\", text)\n",
    "num1 = input(\"Type any number: \")\n",
    "print(5*num1)\n",
    "num2 = int(input(\"Type a number: \"))\n",
    "print(3*num2)"
   ]
  },
  {
   "cell_type": "code",
   "execution_count": null,
   "id": "84330d3d-0b57-4657-81b4-66a715b276ff",
   "metadata": {},
   "outputs": [],
   "source": [
    "question = input(\"choose a verb: \")\n",
    "print(\"I\",question, \"to eat!\")\n",
    "print((question+\" \")*5\")"
   ]
  },
  {
   "cell_type": "code",
   "execution_count": null,
   "id": "9d00fe15-491f-48a3-8736-b2f19c8522c6",
   "metadata": {},
   "outputs": [],
   "source": [
    "import pandas as pd\n",
    "d = {'Sharwama':[1,2,3,4,5],'Chicken':[2,6,8,9,7], 'Burger':[9,10,13,14,20], 'Meat pie':[20,30,14,12,6]}\n",
    "df = pd.DataFrame(data=d)\n",
    "print(df)\n"
   ]
  },
  {
   "cell_type": "code",
   "execution_count": 12,
   "id": "bad5c41b-6889-427c-8d3a-a3de59fef00d",
   "metadata": {},
   "outputs": [
    {
     "name": "stdout",
     "output_type": "stream",
     "text": [
      "   Sharwama  Chicken  Burger  Meat pie\n",
      "0       1.0        2       9        20\n",
      "1       2.0        6      10        30\n",
      "2       3.0        8      13        14\n",
      "3       4.0        9      14        12\n",
      "4       5.0        7      20         6\n",
      "Sharwama    15.0\n",
      "Chicken     32.0\n",
      "Burger      66.0\n",
      "Meat pie    82.0\n",
      "dtype: float64\n",
      "195.0\n"
     ]
    },
    {
     "ename": "TypeError",
     "evalue": "int() argument must be a string, a bytes-like object or a number, not 'DataFrame'",
     "output_type": "error",
     "traceback": [
      "\u001b[0;31m---------------------------------------------------------------------------\u001b[0m",
      "\u001b[0;31mTypeError\u001b[0m                                 Traceback (most recent call last)",
      "Cell \u001b[0;32mIn[12], line 11\u001b[0m\n\u001b[1;32m      9\u001b[0m \u001b[38;5;28mprint\u001b[39m(total)\n\u001b[1;32m     10\u001b[0m \u001b[38;5;28mprint\u001b[39m(all_total)\n\u001b[0;32m---> 11\u001b[0m \u001b[38;5;28mprint\u001b[39m (\u001b[38;5;28;43mint\u001b[39;49m\u001b[43m(\u001b[49m\u001b[43mdf\u001b[49m\u001b[38;5;241;43m.\u001b[39;49m\u001b[43mdescribe\u001b[49m\u001b[43m(\u001b[49m\u001b[43m)\u001b[49m\u001b[43m)\u001b[49m)\n",
      "\u001b[0;31mTypeError\u001b[0m: int() argument must be a string, a bytes-like object or a number, not 'DataFrame'"
     ]
    }
   ],
   "source": [
    "import pandas as pd\n",
    "d = {'Sharwama':[1,2,3.0,4,5],'Chicken':[2,6,8,9,7], \n",
    "     'Burger':[9,10,13,14,20], \n",
    "     'Meat pie':[20,30,14,12,6]}\n",
    "df =pd.DataFrame(data=d)\n",
    "total = df.sum()\n",
    "all_total = df.sum().sum()\n",
    "print(df)\n",
    "print(total)\n",
    "print(all_total)\n",
    "print (int(df.describe()))\n",
    "\n"
   ]
  },
  {
   "cell_type": "code",
   "execution_count": null,
   "id": "a56cf85e-752c-4323-a722-0dd046cf5803",
   "metadata": {},
   "outputs": [],
   "source": [
    "## The Mean Function \n",
    "Then numpy mean() function is used to find the average of an array."
   ]
  },
  {
   "cell_type": "code",
   "execution_count": 26,
   "id": "79b2ef92-905a-4b29-b825-371ae4c7d70b",
   "metadata": {},
   "outputs": [
    {
     "name": "stdout",
     "output_type": "stream",
     "text": [
      "40\n"
     ]
    }
   ],
   "source": [
    "## The mean of Sharwama in store\n",
    "import numpy as np\n",
    "sharwama = [10, 20, 30, 40, 50, 60, 70]\n",
    "Average_sharwama = np.mean(sharwama)\n",
    "print (int(Average_sharwama))"
   ]
  },
  {
   "cell_type": "markdown",
   "id": "c7ba94d1-2cc4-4b80-a138-1eba8be80467",
   "metadata": {},
   "source": [
    "## Extract and Read Data With Pandas\n",
    "Before data can be analysed, it must be imported or extracted"
   ]
  },
  {
   "cell_type": "code",
   "execution_count": null,
   "id": "eef3c8eb-2eb3-4566-be1f-7d8c2e5c6e32",
   "metadata": {
    "scrolled": true
   },
   "outputs": [],
   "source": [
    "import pandas as pd\n",
    "\n",
    "health_care = pd.read_csv(\"data.csv\", header=0, sep=\",\")\n",
    "\n",
    "print(health_care)"
   ]
  },
  {
   "cell_type": "code",
   "execution_count": null,
   "id": "27a7ea76-824d-4cdf-a7cc-dfa5b929787e",
   "metadata": {},
   "outputs": [],
   "source": [
    "import pandas as pd\n",
    "# Import healthcare data from a CSV file \n",
    "data = pd.read_csv('healthcare_data.csv')\n",
    "print(data.head())"
   ]
  },
  {
   "cell_type": "code",
   "execution_count": 25,
   "id": "58a9c107-dbee-42a6-b522-ad57d291e001",
   "metadata": {},
   "outputs": [
    {
     "name": "stdout",
     "output_type": "stream",
     "text": [
      "Data exported successfully to 'health_care_data.csv'\n",
      "   PatientID           Name  Age     Condition\n",
      "0          1       John Doe   45      Diabetes\n",
      "1          2     Jane Smith   32  Hypertension\n",
      "2          3  Alice Johnson   67        Asthma\n",
      "<class 'pandas.core.frame.DataFrame'>\n",
      "RangeIndex: 3 entries, 0 to 2\n",
      "Data columns (total 4 columns):\n",
      " #   Column     Non-Null Count  Dtype \n",
      "---  ------     --------------  ----- \n",
      " 0   PatientID  3 non-null      int64 \n",
      " 1   Name       3 non-null      object\n",
      " 2   Age        3 non-null      int64 \n",
      " 3   Condition  3 non-null      object\n",
      "dtypes: int64(2), object(2)\n",
      "memory usage: 224.0+ bytes\n",
      "None\n",
      "       PatientID        Age\n",
      "count        3.0   3.000000\n",
      "mean         2.0  48.000000\n",
      "std          1.0  17.691806\n",
      "min          1.0  32.000000\n",
      "25%          1.5  38.500000\n",
      "50%          2.0  45.000000\n",
      "75%          2.5  56.000000\n",
      "max          3.0  67.000000\n"
     ]
    }
   ],
   "source": [
    "import pandas as pd\n",
    "\n",
    "# Example healthcare data\n",
    "data = {\n",
    "    'PatientID': [1, 2, 3],\n",
    "    'Name': ['John Doe', 'Jane Smith', 'Alice Johnson'],\n",
    "    'Age': [45, 32, 67],\n",
    "    'Condition': ['Diabetes', 'Hypertension', 'Asthma']\n",
    "}\n",
    "\n",
    "# Create a DataFrame\n",
    "df = pd.DataFrame(data)\n",
    "\n",
    "# Export to CSV\n",
    "df.to_csv('health_care_data.csv', index=False)\n",
    "\n",
    "print(\"Data exported successfully to 'health_care_data.csv'\")\n",
    "exported_data = pd.read_csv('health_care_data.csv')\n",
    "pd.set_option('display.max_columns',None)\n",
    "print(exported_data)\n",
    "print(exported_data.info())\n",
    "print(exported_data.describe())\n",
    "age = sum."
   ]
  },
  {
   "cell_type": "code",
   "execution_count": 6,
   "id": "7417a9ef-8643-4e13-a4fb-d41fc1094ab8",
   "metadata": {},
   "outputs": [
    {
     "name": "stdout",
     "output_type": "stream",
     "text": [
      "Current Working Directory: /Users/mtgmacpro11/Alisson-Data-Sciene\n"
     ]
    }
   ],
   "source": [
    "import os\n",
    "print(\"Current Working Directory:\", os.getcwd())"
   ]
  },
  {
   "cell_type": "markdown",
   "id": "48cba040-1fcc-44b8-98df-b1b68bd3f1f8",
   "metadata": {},
   "source": [
    "## Data Science - Linear Functions\n",
    "Mathematical functions are important to know as a data scientist, because we want to make prediction and interpret them."
   ]
  },
  {
   "cell_type": "code",
   "execution_count": 5,
   "id": "97b05856-9a39-46f9-b993-2737546522a6",
   "metadata": {},
   "outputs": [
    {
     "name": "stdin",
     "output_type": "stream",
     "text": [
      "What x to find the cube root of?  6.0\n",
      "What guess to start with?  6\n"
     ]
    }
   ],
   "source": [
    "x = float(input('What x to find the cube root of? '))\n",
    "g = int(input('What guess to start with? '))\n"
   ]
  },
  {
   "cell_type": "code",
   "execution_count": 8,
   "id": "dee31dd5-0062-4e82-b66c-14ef10717a7e",
   "metadata": {},
   "outputs": [
    {
     "ename": "ModuleNotFoundError",
     "evalue": "No module named 'datetimes'",
     "output_type": "error",
     "traceback": [
      "\u001b[0;31m---------------------------------------------------------------------------\u001b[0m",
      "\u001b[0;31mModuleNotFoundError\u001b[0m                       Traceback (most recent call last)",
      "Cell \u001b[0;32mIn[8], line 1\u001b[0m\n\u001b[0;32m----> 1\u001b[0m \u001b[38;5;28;01mimport\u001b[39;00m \u001b[38;5;21;01mdatetimes\u001b[39;00m\n\u001b[1;32m      2\u001b[0m x \u001b[38;5;241m=\u001b[39m datetimes\u001b[38;5;241m.\u001b[39mdatetimes\u001b[38;5;241m.\u001b[39mnow\n\u001b[1;32m      3\u001b[0m \u001b[38;5;28mprint\u001b[39m(x)\n",
      "\u001b[0;31mModuleNotFoundError\u001b[0m: No module named 'datetimes'"
     ]
    }
   ],
   "source": [
    "import datetimes\n",
    "x = datetimes.datetimes.now\n",
    "print(x)"
   ]
  },
  {
   "cell_type": "code",
   "execution_count": 18,
   "id": "de2795b3-6842-4486-9429-ff596c017bb3",
   "metadata": {},
   "outputs": [
    {
     "name": "stdout",
     "output_type": "stream",
     "text": [
      "The date and time is: 2024-10-29 22:05:32.640512\n"
     ]
    }
   ],
   "source": [
    "import datetime\n",
    "time = datetime.datetime.now()\n",
    "print(\"The date and time is:\",time)"
   ]
  },
  {
   "cell_type": "code",
   "execution_count": 15,
   "id": "568940f8-7f3a-4a99-b2cf-7b1cad43929e",
   "metadata": {},
   "outputs": [
    {
     "name": "stdout",
     "output_type": "stream",
     "text": [
      "Current Time: 22:03:50\n"
     ]
    }
   ],
   "source": [
    "from datetime import datetime\n",
    "\n",
    "# Get the current time\n",
    "now = datetime.now()\n",
    "h = now.hour\n",
    "m = now.minute\n",
    "s = now.second\n",
    "\n",
    "# Format time with leading zeros for single digits\n",
    "formatted_time = f\"{h:02}:{m:02}:{s:02}\"\n",
    "\n",
    "print(\"Current Time:\", formatted_time) "
   ]
  },
  {
   "cell_type": "code",
   "execution_count": 3,
   "id": "b6ef829c-3a88-4f2f-b5ae-e89451642ed1",
   "metadata": {},
   "outputs": [
    {
     "name": "stdout",
     "output_type": "stream",
     "text": [
      "What are you goin to eat\n"
     ]
    }
   ],
   "source": [
    "def my_function():\n",
    " print(\"What are you goin to eat\")\n",
    "my_function()"
   ]
  },
  {
   "cell_type": "code",
   "execution_count": 4,
   "id": "73ae35fc-ba7a-4968-83ea-5acbd67a00f2",
   "metadata": {},
   "outputs": [
    {
     "ename": "FileNotFoundError",
     "evalue": "[Errno 2] No such file or directory: 'organization.xlsx'",
     "output_type": "error",
     "traceback": [
      "\u001b[0;31m---------------------------------------------------------------------------\u001b[0m",
      "\u001b[0;31mFileNotFoundError\u001b[0m                         Traceback (most recent call last)",
      "Cell \u001b[0;32mIn[4], line 4\u001b[0m\n\u001b[1;32m      1\u001b[0m \u001b[38;5;28;01mimport\u001b[39;00m \u001b[38;5;21;01mpandas\u001b[39;00m \u001b[38;5;28;01mas\u001b[39;00m \u001b[38;5;21;01mpd\u001b[39;00m\n\u001b[1;32m      3\u001b[0m \u001b[38;5;66;03m# Replace 'your_file.xlsx' with the path to your Excel file\u001b[39;00m\n\u001b[0;32m----> 4\u001b[0m df \u001b[38;5;241m=\u001b[39m \u001b[43mpd\u001b[49m\u001b[38;5;241;43m.\u001b[39;49m\u001b[43mread_excel\u001b[49m\u001b[43m(\u001b[49m\u001b[38;5;124;43m'\u001b[39;49m\u001b[38;5;124;43morganization.xlsx\u001b[39;49m\u001b[38;5;124;43m'\u001b[39;49m\u001b[43m,\u001b[49m\u001b[43m \u001b[49m\u001b[43msheet_name\u001b[49m\u001b[38;5;241;43m=\u001b[39;49m\u001b[38;5;124;43m'\u001b[39;49m\u001b[38;5;124;43mSheet1\u001b[39;49m\u001b[38;5;124;43m'\u001b[39;49m\u001b[43m)\u001b[49m\n\u001b[1;32m      6\u001b[0m \u001b[38;5;66;03m# Display the DataFrame\u001b[39;00m\n\u001b[1;32m      7\u001b[0m \u001b[38;5;28mprint\u001b[39m(df)\n",
      "File \u001b[0;32m~/Desktop/miniconda3/envs/Python_DS/lib/python3.9/site-packages/pandas/util/_decorators.py:211\u001b[0m, in \u001b[0;36mdeprecate_kwarg.<locals>._deprecate_kwarg.<locals>.wrapper\u001b[0;34m(*args, **kwargs)\u001b[0m\n\u001b[1;32m    209\u001b[0m     \u001b[38;5;28;01melse\u001b[39;00m:\n\u001b[1;32m    210\u001b[0m         kwargs[new_arg_name] \u001b[38;5;241m=\u001b[39m new_arg_value\n\u001b[0;32m--> 211\u001b[0m \u001b[38;5;28;01mreturn\u001b[39;00m \u001b[43mfunc\u001b[49m\u001b[43m(\u001b[49m\u001b[38;5;241;43m*\u001b[39;49m\u001b[43margs\u001b[49m\u001b[43m,\u001b[49m\u001b[43m \u001b[49m\u001b[38;5;241;43m*\u001b[39;49m\u001b[38;5;241;43m*\u001b[39;49m\u001b[43mkwargs\u001b[49m\u001b[43m)\u001b[49m\n",
      "File \u001b[0;32m~/Desktop/miniconda3/envs/Python_DS/lib/python3.9/site-packages/pandas/util/_decorators.py:331\u001b[0m, in \u001b[0;36mdeprecate_nonkeyword_arguments.<locals>.decorate.<locals>.wrapper\u001b[0;34m(*args, **kwargs)\u001b[0m\n\u001b[1;32m    325\u001b[0m \u001b[38;5;28;01mif\u001b[39;00m \u001b[38;5;28mlen\u001b[39m(args) \u001b[38;5;241m>\u001b[39m num_allow_args:\n\u001b[1;32m    326\u001b[0m     warnings\u001b[38;5;241m.\u001b[39mwarn(\n\u001b[1;32m    327\u001b[0m         msg\u001b[38;5;241m.\u001b[39mformat(arguments\u001b[38;5;241m=\u001b[39m_format_argument_list(allow_args)),\n\u001b[1;32m    328\u001b[0m         \u001b[38;5;167;01mFutureWarning\u001b[39;00m,\n\u001b[1;32m    329\u001b[0m         stacklevel\u001b[38;5;241m=\u001b[39mfind_stack_level(),\n\u001b[1;32m    330\u001b[0m     )\n\u001b[0;32m--> 331\u001b[0m \u001b[38;5;28;01mreturn\u001b[39;00m \u001b[43mfunc\u001b[49m\u001b[43m(\u001b[49m\u001b[38;5;241;43m*\u001b[39;49m\u001b[43margs\u001b[49m\u001b[43m,\u001b[49m\u001b[43m \u001b[49m\u001b[38;5;241;43m*\u001b[39;49m\u001b[38;5;241;43m*\u001b[39;49m\u001b[43mkwargs\u001b[49m\u001b[43m)\u001b[49m\n",
      "File \u001b[0;32m~/Desktop/miniconda3/envs/Python_DS/lib/python3.9/site-packages/pandas/io/excel/_base.py:482\u001b[0m, in \u001b[0;36mread_excel\u001b[0;34m(io, sheet_name, header, names, index_col, usecols, squeeze, dtype, engine, converters, true_values, false_values, skiprows, nrows, na_values, keep_default_na, na_filter, verbose, parse_dates, date_parser, thousands, decimal, comment, skipfooter, convert_float, mangle_dupe_cols, storage_options)\u001b[0m\n\u001b[1;32m    480\u001b[0m \u001b[38;5;28;01mif\u001b[39;00m \u001b[38;5;129;01mnot\u001b[39;00m \u001b[38;5;28misinstance\u001b[39m(io, ExcelFile):\n\u001b[1;32m    481\u001b[0m     should_close \u001b[38;5;241m=\u001b[39m \u001b[38;5;28;01mTrue\u001b[39;00m\n\u001b[0;32m--> 482\u001b[0m     io \u001b[38;5;241m=\u001b[39m \u001b[43mExcelFile\u001b[49m\u001b[43m(\u001b[49m\u001b[43mio\u001b[49m\u001b[43m,\u001b[49m\u001b[43m \u001b[49m\u001b[43mstorage_options\u001b[49m\u001b[38;5;241;43m=\u001b[39;49m\u001b[43mstorage_options\u001b[49m\u001b[43m,\u001b[49m\u001b[43m \u001b[49m\u001b[43mengine\u001b[49m\u001b[38;5;241;43m=\u001b[39;49m\u001b[43mengine\u001b[49m\u001b[43m)\u001b[49m\n\u001b[1;32m    483\u001b[0m \u001b[38;5;28;01melif\u001b[39;00m engine \u001b[38;5;129;01mand\u001b[39;00m engine \u001b[38;5;241m!=\u001b[39m io\u001b[38;5;241m.\u001b[39mengine:\n\u001b[1;32m    484\u001b[0m     \u001b[38;5;28;01mraise\u001b[39;00m \u001b[38;5;167;01mValueError\u001b[39;00m(\n\u001b[1;32m    485\u001b[0m         \u001b[38;5;124m\"\u001b[39m\u001b[38;5;124mEngine should not be specified when passing \u001b[39m\u001b[38;5;124m\"\u001b[39m\n\u001b[1;32m    486\u001b[0m         \u001b[38;5;124m\"\u001b[39m\u001b[38;5;124man ExcelFile - ExcelFile already has the engine set\u001b[39m\u001b[38;5;124m\"\u001b[39m\n\u001b[1;32m    487\u001b[0m     )\n",
      "File \u001b[0;32m~/Desktop/miniconda3/envs/Python_DS/lib/python3.9/site-packages/pandas/io/excel/_base.py:1652\u001b[0m, in \u001b[0;36mExcelFile.__init__\u001b[0;34m(self, path_or_buffer, engine, storage_options)\u001b[0m\n\u001b[1;32m   1650\u001b[0m     ext \u001b[38;5;241m=\u001b[39m \u001b[38;5;124m\"\u001b[39m\u001b[38;5;124mxls\u001b[39m\u001b[38;5;124m\"\u001b[39m\n\u001b[1;32m   1651\u001b[0m \u001b[38;5;28;01melse\u001b[39;00m:\n\u001b[0;32m-> 1652\u001b[0m     ext \u001b[38;5;241m=\u001b[39m \u001b[43minspect_excel_format\u001b[49m\u001b[43m(\u001b[49m\n\u001b[1;32m   1653\u001b[0m \u001b[43m        \u001b[49m\u001b[43mcontent_or_path\u001b[49m\u001b[38;5;241;43m=\u001b[39;49m\u001b[43mpath_or_buffer\u001b[49m\u001b[43m,\u001b[49m\u001b[43m \u001b[49m\u001b[43mstorage_options\u001b[49m\u001b[38;5;241;43m=\u001b[39;49m\u001b[43mstorage_options\u001b[49m\n\u001b[1;32m   1654\u001b[0m \u001b[43m    \u001b[49m\u001b[43m)\u001b[49m\n\u001b[1;32m   1655\u001b[0m     \u001b[38;5;28;01mif\u001b[39;00m ext \u001b[38;5;129;01mis\u001b[39;00m \u001b[38;5;28;01mNone\u001b[39;00m:\n\u001b[1;32m   1656\u001b[0m         \u001b[38;5;28;01mraise\u001b[39;00m \u001b[38;5;167;01mValueError\u001b[39;00m(\n\u001b[1;32m   1657\u001b[0m             \u001b[38;5;124m\"\u001b[39m\u001b[38;5;124mExcel file format cannot be determined, you must specify \u001b[39m\u001b[38;5;124m\"\u001b[39m\n\u001b[1;32m   1658\u001b[0m             \u001b[38;5;124m\"\u001b[39m\u001b[38;5;124man engine manually.\u001b[39m\u001b[38;5;124m\"\u001b[39m\n\u001b[1;32m   1659\u001b[0m         )\n",
      "File \u001b[0;32m~/Desktop/miniconda3/envs/Python_DS/lib/python3.9/site-packages/pandas/io/excel/_base.py:1525\u001b[0m, in \u001b[0;36minspect_excel_format\u001b[0;34m(content_or_path, storage_options)\u001b[0m\n\u001b[1;32m   1522\u001b[0m \u001b[38;5;28;01mif\u001b[39;00m \u001b[38;5;28misinstance\u001b[39m(content_or_path, \u001b[38;5;28mbytes\u001b[39m):\n\u001b[1;32m   1523\u001b[0m     content_or_path \u001b[38;5;241m=\u001b[39m BytesIO(content_or_path)\n\u001b[0;32m-> 1525\u001b[0m \u001b[38;5;28;01mwith\u001b[39;00m \u001b[43mget_handle\u001b[49m\u001b[43m(\u001b[49m\n\u001b[1;32m   1526\u001b[0m \u001b[43m    \u001b[49m\u001b[43mcontent_or_path\u001b[49m\u001b[43m,\u001b[49m\u001b[43m \u001b[49m\u001b[38;5;124;43m\"\u001b[39;49m\u001b[38;5;124;43mrb\u001b[39;49m\u001b[38;5;124;43m\"\u001b[39;49m\u001b[43m,\u001b[49m\u001b[43m \u001b[49m\u001b[43mstorage_options\u001b[49m\u001b[38;5;241;43m=\u001b[39;49m\u001b[43mstorage_options\u001b[49m\u001b[43m,\u001b[49m\u001b[43m \u001b[49m\u001b[43mis_text\u001b[49m\u001b[38;5;241;43m=\u001b[39;49m\u001b[38;5;28;43;01mFalse\u001b[39;49;00m\n\u001b[1;32m   1527\u001b[0m \u001b[43m\u001b[49m\u001b[43m)\u001b[49m \u001b[38;5;28;01mas\u001b[39;00m handle:\n\u001b[1;32m   1528\u001b[0m     stream \u001b[38;5;241m=\u001b[39m handle\u001b[38;5;241m.\u001b[39mhandle\n\u001b[1;32m   1529\u001b[0m     stream\u001b[38;5;241m.\u001b[39mseek(\u001b[38;5;241m0\u001b[39m)\n",
      "File \u001b[0;32m~/Desktop/miniconda3/envs/Python_DS/lib/python3.9/site-packages/pandas/io/common.py:865\u001b[0m, in \u001b[0;36mget_handle\u001b[0;34m(path_or_buf, mode, encoding, compression, memory_map, is_text, errors, storage_options)\u001b[0m\n\u001b[1;32m    856\u001b[0m         handle \u001b[38;5;241m=\u001b[39m \u001b[38;5;28mopen\u001b[39m(\n\u001b[1;32m    857\u001b[0m             handle,\n\u001b[1;32m    858\u001b[0m             ioargs\u001b[38;5;241m.\u001b[39mmode,\n\u001b[0;32m   (...)\u001b[0m\n\u001b[1;32m    861\u001b[0m             newline\u001b[38;5;241m=\u001b[39m\u001b[38;5;124m\"\u001b[39m\u001b[38;5;124m\"\u001b[39m,\n\u001b[1;32m    862\u001b[0m         )\n\u001b[1;32m    863\u001b[0m     \u001b[38;5;28;01melse\u001b[39;00m:\n\u001b[1;32m    864\u001b[0m         \u001b[38;5;66;03m# Binary mode\u001b[39;00m\n\u001b[0;32m--> 865\u001b[0m         handle \u001b[38;5;241m=\u001b[39m \u001b[38;5;28;43mopen\u001b[39;49m\u001b[43m(\u001b[49m\u001b[43mhandle\u001b[49m\u001b[43m,\u001b[49m\u001b[43m \u001b[49m\u001b[43mioargs\u001b[49m\u001b[38;5;241;43m.\u001b[39;49m\u001b[43mmode\u001b[49m\u001b[43m)\u001b[49m\n\u001b[1;32m    866\u001b[0m     handles\u001b[38;5;241m.\u001b[39mappend(handle)\n\u001b[1;32m    868\u001b[0m \u001b[38;5;66;03m# Convert BytesIO or file objects passed with an encoding\u001b[39;00m\n",
      "\u001b[0;31mFileNotFoundError\u001b[0m: [Errno 2] No such file or directory: 'organization.xlsx'"
     ]
    }
   ],
   "source": [
    "import pandas as pd\n",
    "\n",
    "# Replace 'your_file.xlsx' with the path to your Excel file\n",
    "df = pd.read_excel('organization.xlsx', sheet_name='Sheet1')\n",
    "\n",
    "# Display the DataFrame\n",
    "print(df)\n"
   ]
  },
  {
   "cell_type": "code",
   "execution_count": 5,
   "id": "af2e5190-7509-474b-933a-0067d49d66f9",
   "metadata": {},
   "outputs": [
    {
     "ename": "FileNotFoundError",
     "evalue": "[Errno 2] No such file or directory: 'C:/Users///mtgmacpro11/Downloads/Organization.xlsx'",
     "output_type": "error",
     "traceback": [
      "\u001b[0;31m---------------------------------------------------------------------------\u001b[0m",
      "\u001b[0;31mFileNotFoundError\u001b[0m                         Traceback (most recent call last)",
      "Cell \u001b[0;32mIn[5], line 7\u001b[0m\n\u001b[1;32m      4\u001b[0m file_path \u001b[38;5;241m=\u001b[39m \u001b[38;5;124m'\u001b[39m\u001b[38;5;124mC:/Users///mtgmacpro11/Downloads/Organization.xlsx\u001b[39m\u001b[38;5;124m'\u001b[39m\n\u001b[1;32m      6\u001b[0m \u001b[38;5;66;03m# Load the Excel file into a DataFrame\u001b[39;00m\n\u001b[0;32m----> 7\u001b[0m df \u001b[38;5;241m=\u001b[39m \u001b[43mpd\u001b[49m\u001b[38;5;241;43m.\u001b[39;49m\u001b[43mread_excel\u001b[49m\u001b[43m(\u001b[49m\u001b[43mfile_path\u001b[49m\u001b[43m)\u001b[49m\n\u001b[1;32m      9\u001b[0m \u001b[38;5;66;03m# Display the first few rows of the DataFrame\u001b[39;00m\n\u001b[1;32m     10\u001b[0m \u001b[38;5;28mprint\u001b[39m(df\u001b[38;5;241m.\u001b[39mhead())\n",
      "File \u001b[0;32m~/Desktop/miniconda3/envs/Python_DS/lib/python3.9/site-packages/pandas/util/_decorators.py:211\u001b[0m, in \u001b[0;36mdeprecate_kwarg.<locals>._deprecate_kwarg.<locals>.wrapper\u001b[0;34m(*args, **kwargs)\u001b[0m\n\u001b[1;32m    209\u001b[0m     \u001b[38;5;28;01melse\u001b[39;00m:\n\u001b[1;32m    210\u001b[0m         kwargs[new_arg_name] \u001b[38;5;241m=\u001b[39m new_arg_value\n\u001b[0;32m--> 211\u001b[0m \u001b[38;5;28;01mreturn\u001b[39;00m \u001b[43mfunc\u001b[49m\u001b[43m(\u001b[49m\u001b[38;5;241;43m*\u001b[39;49m\u001b[43margs\u001b[49m\u001b[43m,\u001b[49m\u001b[43m \u001b[49m\u001b[38;5;241;43m*\u001b[39;49m\u001b[38;5;241;43m*\u001b[39;49m\u001b[43mkwargs\u001b[49m\u001b[43m)\u001b[49m\n",
      "File \u001b[0;32m~/Desktop/miniconda3/envs/Python_DS/lib/python3.9/site-packages/pandas/util/_decorators.py:331\u001b[0m, in \u001b[0;36mdeprecate_nonkeyword_arguments.<locals>.decorate.<locals>.wrapper\u001b[0;34m(*args, **kwargs)\u001b[0m\n\u001b[1;32m    325\u001b[0m \u001b[38;5;28;01mif\u001b[39;00m \u001b[38;5;28mlen\u001b[39m(args) \u001b[38;5;241m>\u001b[39m num_allow_args:\n\u001b[1;32m    326\u001b[0m     warnings\u001b[38;5;241m.\u001b[39mwarn(\n\u001b[1;32m    327\u001b[0m         msg\u001b[38;5;241m.\u001b[39mformat(arguments\u001b[38;5;241m=\u001b[39m_format_argument_list(allow_args)),\n\u001b[1;32m    328\u001b[0m         \u001b[38;5;167;01mFutureWarning\u001b[39;00m,\n\u001b[1;32m    329\u001b[0m         stacklevel\u001b[38;5;241m=\u001b[39mfind_stack_level(),\n\u001b[1;32m    330\u001b[0m     )\n\u001b[0;32m--> 331\u001b[0m \u001b[38;5;28;01mreturn\u001b[39;00m \u001b[43mfunc\u001b[49m\u001b[43m(\u001b[49m\u001b[38;5;241;43m*\u001b[39;49m\u001b[43margs\u001b[49m\u001b[43m,\u001b[49m\u001b[43m \u001b[49m\u001b[38;5;241;43m*\u001b[39;49m\u001b[38;5;241;43m*\u001b[39;49m\u001b[43mkwargs\u001b[49m\u001b[43m)\u001b[49m\n",
      "File \u001b[0;32m~/Desktop/miniconda3/envs/Python_DS/lib/python3.9/site-packages/pandas/io/excel/_base.py:482\u001b[0m, in \u001b[0;36mread_excel\u001b[0;34m(io, sheet_name, header, names, index_col, usecols, squeeze, dtype, engine, converters, true_values, false_values, skiprows, nrows, na_values, keep_default_na, na_filter, verbose, parse_dates, date_parser, thousands, decimal, comment, skipfooter, convert_float, mangle_dupe_cols, storage_options)\u001b[0m\n\u001b[1;32m    480\u001b[0m \u001b[38;5;28;01mif\u001b[39;00m \u001b[38;5;129;01mnot\u001b[39;00m \u001b[38;5;28misinstance\u001b[39m(io, ExcelFile):\n\u001b[1;32m    481\u001b[0m     should_close \u001b[38;5;241m=\u001b[39m \u001b[38;5;28;01mTrue\u001b[39;00m\n\u001b[0;32m--> 482\u001b[0m     io \u001b[38;5;241m=\u001b[39m \u001b[43mExcelFile\u001b[49m\u001b[43m(\u001b[49m\u001b[43mio\u001b[49m\u001b[43m,\u001b[49m\u001b[43m \u001b[49m\u001b[43mstorage_options\u001b[49m\u001b[38;5;241;43m=\u001b[39;49m\u001b[43mstorage_options\u001b[49m\u001b[43m,\u001b[49m\u001b[43m \u001b[49m\u001b[43mengine\u001b[49m\u001b[38;5;241;43m=\u001b[39;49m\u001b[43mengine\u001b[49m\u001b[43m)\u001b[49m\n\u001b[1;32m    483\u001b[0m \u001b[38;5;28;01melif\u001b[39;00m engine \u001b[38;5;129;01mand\u001b[39;00m engine \u001b[38;5;241m!=\u001b[39m io\u001b[38;5;241m.\u001b[39mengine:\n\u001b[1;32m    484\u001b[0m     \u001b[38;5;28;01mraise\u001b[39;00m \u001b[38;5;167;01mValueError\u001b[39;00m(\n\u001b[1;32m    485\u001b[0m         \u001b[38;5;124m\"\u001b[39m\u001b[38;5;124mEngine should not be specified when passing \u001b[39m\u001b[38;5;124m\"\u001b[39m\n\u001b[1;32m    486\u001b[0m         \u001b[38;5;124m\"\u001b[39m\u001b[38;5;124man ExcelFile - ExcelFile already has the engine set\u001b[39m\u001b[38;5;124m\"\u001b[39m\n\u001b[1;32m    487\u001b[0m     )\n",
      "File \u001b[0;32m~/Desktop/miniconda3/envs/Python_DS/lib/python3.9/site-packages/pandas/io/excel/_base.py:1652\u001b[0m, in \u001b[0;36mExcelFile.__init__\u001b[0;34m(self, path_or_buffer, engine, storage_options)\u001b[0m\n\u001b[1;32m   1650\u001b[0m     ext \u001b[38;5;241m=\u001b[39m \u001b[38;5;124m\"\u001b[39m\u001b[38;5;124mxls\u001b[39m\u001b[38;5;124m\"\u001b[39m\n\u001b[1;32m   1651\u001b[0m \u001b[38;5;28;01melse\u001b[39;00m:\n\u001b[0;32m-> 1652\u001b[0m     ext \u001b[38;5;241m=\u001b[39m \u001b[43minspect_excel_format\u001b[49m\u001b[43m(\u001b[49m\n\u001b[1;32m   1653\u001b[0m \u001b[43m        \u001b[49m\u001b[43mcontent_or_path\u001b[49m\u001b[38;5;241;43m=\u001b[39;49m\u001b[43mpath_or_buffer\u001b[49m\u001b[43m,\u001b[49m\u001b[43m \u001b[49m\u001b[43mstorage_options\u001b[49m\u001b[38;5;241;43m=\u001b[39;49m\u001b[43mstorage_options\u001b[49m\n\u001b[1;32m   1654\u001b[0m \u001b[43m    \u001b[49m\u001b[43m)\u001b[49m\n\u001b[1;32m   1655\u001b[0m     \u001b[38;5;28;01mif\u001b[39;00m ext \u001b[38;5;129;01mis\u001b[39;00m \u001b[38;5;28;01mNone\u001b[39;00m:\n\u001b[1;32m   1656\u001b[0m         \u001b[38;5;28;01mraise\u001b[39;00m \u001b[38;5;167;01mValueError\u001b[39;00m(\n\u001b[1;32m   1657\u001b[0m             \u001b[38;5;124m\"\u001b[39m\u001b[38;5;124mExcel file format cannot be determined, you must specify \u001b[39m\u001b[38;5;124m\"\u001b[39m\n\u001b[1;32m   1658\u001b[0m             \u001b[38;5;124m\"\u001b[39m\u001b[38;5;124man engine manually.\u001b[39m\u001b[38;5;124m\"\u001b[39m\n\u001b[1;32m   1659\u001b[0m         )\n",
      "File \u001b[0;32m~/Desktop/miniconda3/envs/Python_DS/lib/python3.9/site-packages/pandas/io/excel/_base.py:1525\u001b[0m, in \u001b[0;36minspect_excel_format\u001b[0;34m(content_or_path, storage_options)\u001b[0m\n\u001b[1;32m   1522\u001b[0m \u001b[38;5;28;01mif\u001b[39;00m \u001b[38;5;28misinstance\u001b[39m(content_or_path, \u001b[38;5;28mbytes\u001b[39m):\n\u001b[1;32m   1523\u001b[0m     content_or_path \u001b[38;5;241m=\u001b[39m BytesIO(content_or_path)\n\u001b[0;32m-> 1525\u001b[0m \u001b[38;5;28;01mwith\u001b[39;00m \u001b[43mget_handle\u001b[49m\u001b[43m(\u001b[49m\n\u001b[1;32m   1526\u001b[0m \u001b[43m    \u001b[49m\u001b[43mcontent_or_path\u001b[49m\u001b[43m,\u001b[49m\u001b[43m \u001b[49m\u001b[38;5;124;43m\"\u001b[39;49m\u001b[38;5;124;43mrb\u001b[39;49m\u001b[38;5;124;43m\"\u001b[39;49m\u001b[43m,\u001b[49m\u001b[43m \u001b[49m\u001b[43mstorage_options\u001b[49m\u001b[38;5;241;43m=\u001b[39;49m\u001b[43mstorage_options\u001b[49m\u001b[43m,\u001b[49m\u001b[43m \u001b[49m\u001b[43mis_text\u001b[49m\u001b[38;5;241;43m=\u001b[39;49m\u001b[38;5;28;43;01mFalse\u001b[39;49;00m\n\u001b[1;32m   1527\u001b[0m \u001b[43m\u001b[49m\u001b[43m)\u001b[49m \u001b[38;5;28;01mas\u001b[39;00m handle:\n\u001b[1;32m   1528\u001b[0m     stream \u001b[38;5;241m=\u001b[39m handle\u001b[38;5;241m.\u001b[39mhandle\n\u001b[1;32m   1529\u001b[0m     stream\u001b[38;5;241m.\u001b[39mseek(\u001b[38;5;241m0\u001b[39m)\n",
      "File \u001b[0;32m~/Desktop/miniconda3/envs/Python_DS/lib/python3.9/site-packages/pandas/io/common.py:865\u001b[0m, in \u001b[0;36mget_handle\u001b[0;34m(path_or_buf, mode, encoding, compression, memory_map, is_text, errors, storage_options)\u001b[0m\n\u001b[1;32m    856\u001b[0m         handle \u001b[38;5;241m=\u001b[39m \u001b[38;5;28mopen\u001b[39m(\n\u001b[1;32m    857\u001b[0m             handle,\n\u001b[1;32m    858\u001b[0m             ioargs\u001b[38;5;241m.\u001b[39mmode,\n\u001b[0;32m   (...)\u001b[0m\n\u001b[1;32m    861\u001b[0m             newline\u001b[38;5;241m=\u001b[39m\u001b[38;5;124m\"\u001b[39m\u001b[38;5;124m\"\u001b[39m,\n\u001b[1;32m    862\u001b[0m         )\n\u001b[1;32m    863\u001b[0m     \u001b[38;5;28;01melse\u001b[39;00m:\n\u001b[1;32m    864\u001b[0m         \u001b[38;5;66;03m# Binary mode\u001b[39;00m\n\u001b[0;32m--> 865\u001b[0m         handle \u001b[38;5;241m=\u001b[39m \u001b[38;5;28;43mopen\u001b[39;49m\u001b[43m(\u001b[49m\u001b[43mhandle\u001b[49m\u001b[43m,\u001b[49m\u001b[43m \u001b[49m\u001b[43mioargs\u001b[49m\u001b[38;5;241;43m.\u001b[39;49m\u001b[43mmode\u001b[49m\u001b[43m)\u001b[49m\n\u001b[1;32m    866\u001b[0m     handles\u001b[38;5;241m.\u001b[39mappend(handle)\n\u001b[1;32m    868\u001b[0m \u001b[38;5;66;03m# Convert BytesIO or file objects passed with an encoding\u001b[39;00m\n",
      "\u001b[0;31mFileNotFoundError\u001b[0m: [Errno 2] No such file or directory: 'C:/Users///mtgmacpro11/Downloads/Organization.xlsx'"
     ]
    }
   ],
   "source": [
    "import pandas as pd\n",
    "\n",
    "# Replace 'YourFileName.xlsx' with the actual file name in your Documents folder\n",
    "file_path = 'C:/Users///mtgmacpro11/Downloads/Organization.xlsx'\n",
    "\n",
    "# Load the Excel file into a DataFrame\n",
    "df = pd.read_excel(file_path)\n",
    "\n",
    "# Display the first few rows of the DataFrame\n",
    "print(df.head())\n"
   ]
  },
  {
   "cell_type": "markdown",
   "id": "3b942a80-a2bd-4ac1-8798-aa5f1dfd47e4",
   "metadata": {},
   "source": [
    "## BOBS ORGANIZATION"
   ]
  },
  {
   "cell_type": "code",
   "execution_count": 32,
   "id": "6ba08c1f-5521-4fdc-8df4-b7e4fa95884c",
   "metadata": {},
   "outputs": [
    {
     "name": "stdout",
     "output_type": "stream",
     "text": [
      "   EmployeeID           Name Department                  Role  Salary  \\\n",
      "0       101.0  Alice Johnson         HR            HR Manager   75000   \n",
      "1       102.0      Bob Smith      Sales       Sales Executive   50000   \n",
      "2       103.0    Charlie Lee         IT     Software Engineer   85000   \n",
      "3       104.0   Diana Prince  Marketing  Marketing Specialist   60000   \n",
      "4       105.0    Evan Peters    Finance            Accountant   55000   \n",
      "5         NaN            NaN        NaN                 Total  325000   \n",
      "\n",
      "              HireDate  \n",
      "0  2024-03-15 00:00:00  \n",
      "1              unknown  \n",
      "2  2024-09-17 00:00:00  \n",
      "3              unknown  \n",
      "4  2024-01-10 00:00:00  \n",
      "5                  NaN  \n",
      "Maximum of EmployeeID: 105.0\n",
      "The average salary is: 108333.33333333333\n"
     ]
    }
   ],
   "source": [
    "import pandas as pd\n",
    "# Load the Excel file into a DataFrame\n",
    "df = pd.read_excel('/Users/mtgmacpro11/Downloads/organization .xlsx')\n",
    "\n",
    "\n",
    "# Display the first few rows of the DataFrame\n",
    "print(df)\n",
    "max_salary = df['EmployeeID'].max()\n",
    "print(\"Maximum of EmployeeID:\", max_salary)\n",
    "average_salary = df['Salary'].mean()\n",
    "print(\"The average salary is:\", average_salary)"
   ]
  },
  {
   "cell_type": "code",
   "execution_count": null,
   "id": "79946381-0d9a-48f3-aa0b-04c0f35ab001",
   "metadata": {},
   "outputs": [],
   "source": []
  }
 ],
 "metadata": {
  "kernelspec": {
   "display_name": "Python 3 (ipykernel)",
   "language": "python",
   "name": "python3"
  },
  "language_info": {
   "codemirror_mode": {
    "name": "ipython",
    "version": 3
   },
   "file_extension": ".py",
   "mimetype": "text/x-python",
   "name": "python",
   "nbconvert_exporter": "python",
   "pygments_lexer": "ipython3",
   "version": "3.9.20"
  }
 },
 "nbformat": 4,
 "nbformat_minor": 5
}
